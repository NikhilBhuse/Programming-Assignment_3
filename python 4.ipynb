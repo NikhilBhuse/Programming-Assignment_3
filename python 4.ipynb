{
 "cells": [
  {
   "cell_type": "markdown",
   "id": "ee30262d",
   "metadata": {},
   "source": [
    "# Programming Assignment_4\n"
   ]
  },
  {
   "cell_type": "code",
   "execution_count": 1,
   "id": "0abb8fd5",
   "metadata": {},
   "outputs": [
    {
     "name": "stdout",
     "output_type": "stream",
     "text": [
      "Enter the number is here : 8\n",
      "The factorial of giver number is :  40320\n"
     ]
    }
   ],
   "source": [
    "# 1. Write a Python Program to Find the Factorial of a Number?\n",
    "\n",
    "num = int(input(\"Enter the number is here : \"))\n",
    "\n",
    "fact = 1\n",
    "\n",
    "if num < 0:\n",
    "    print(\"Factorial of 0 is not exist\")\n",
    "if num == 0:\n",
    "    print(\"The factorial of 0 is \",1)\n",
    "if num > 0:\n",
    "    for i in range (1, num+1):\n",
    "        fact = fact * i\n",
    "print(\"The factorial of giver number is : \",fact)\n"
   ]
  },
  {
   "cell_type": "code",
   "execution_count": 7,
   "id": "e5357aa0",
   "metadata": {},
   "outputs": [
    {
     "name": "stdout",
     "output_type": "stream",
     "text": [
      "2 * 1 = 2\n",
      "2 * 2 = 4\n",
      "2 * 3 = 6\n",
      "2 * 4 = 8\n",
      "2 * 5 = 10\n",
      "2 * 6 = 12\n",
      "2 * 7 = 14\n",
      "2 * 8 = 16\n",
      "2 * 9 = 18\n",
      "2 * 10 = 20\n"
     ]
    }
   ],
   "source": [
    "# 2. Write a Python Program to Display the multiplication Table?\n",
    "\n",
    "\n",
    "a = 2\n",
    "\n",
    "for a in range(1,11):\n",
    "    print(\"2\",\"*\" ,a ,\"=\", 2*a )\n"
   ]
  },
  {
   "cell_type": "code",
   "execution_count": 14,
   "id": "a3e37ceb",
   "metadata": {},
   "outputs": [
    {
     "name": "stdout",
     "output_type": "stream",
     "text": [
      "Enter a number to obtain Fibonacci Sequence :- 5\n",
      "0\n",
      "1\n",
      "1\n",
      "2\n",
      "3\n"
     ]
    }
   ],
   "source": [
    "# 3. Write a Python Program to Print the Fibonacci sequence?\n",
    "\n",
    "a = 0\n",
    "b= 1\n",
    "\n",
    "num = int(input(\"Enter a number to obtain Fibonacci Sequence :- \"))\n",
    "\n",
    "if num == 1:\n",
    "    print(a)\n",
    "else:\n",
    "    print(a)\n",
    "    print(b)\n",
    "    for i in range(2,num):\n",
    "        c = a + b\n",
    "        a = b\n",
    "        b = c\n",
    "        print(c)\n"
   ]
  },
  {
   "cell_type": "code",
   "execution_count": 1,
   "id": "db962eab",
   "metadata": {},
   "outputs": [
    {
     "name": "stdout",
     "output_type": "stream",
     "text": [
      "Enter your Number here :-  153\n",
      "It is a Arstrong number\n"
     ]
    }
   ],
   "source": [
    "# 4. Write a Python Program to Check Armstrong Number?\n",
    "\n",
    "num = int(input(\"Enter your Number here :-  \"))\n",
    "\n",
    "order = len(str(num))\n",
    "sum = 0\n",
    "\n",
    "temp = num\n",
    "while temp > 0:\n",
    "    digit  = temp%10\n",
    "    sum += digit ** order\n",
    "    temp //= 10\n",
    "if sum == num :\n",
    "    print(\"It is a Arstrong number\")\n",
    "else:\n",
    "    print(\"It is not a Arstrong number\")"
   ]
  },
  {
   "cell_type": "code",
   "execution_count": 15,
   "id": "f71d2fe5",
   "metadata": {},
   "outputs": [
    {
     "name": "stdout",
     "output_type": "stream",
     "text": [
      "Enter the lower value of range: 1\n",
      "Enter the upper value of range: 199\n",
      "1\n",
      "2\n",
      "3\n",
      "4\n",
      "5\n",
      "6\n",
      "7\n",
      "8\n",
      "9\n",
      "153\n"
     ]
    }
   ],
   "source": [
    "# 5. Write a Python Program to Find Armstrong Number in an Interval?\n",
    "\n",
    "lower = int(input(\"Enter the lower value of range: \"))\n",
    "upper = int(input(\"Enter the upper value of range: \"))\n",
    "\n",
    "for num in range(lower, upper + 1):\n",
    "    order = len(str(num))\n",
    "    sum = 0\n",
    "    temp = num\n",
    "    while temp > 0:\n",
    "        digit = temp % 10\n",
    "        sum += digit ** order\n",
    "        temp //= 10\n",
    "    if num == sum:\n",
    "        print(num)"
   ]
  },
  {
   "cell_type": "code",
   "execution_count": 13,
   "id": "1822b46e",
   "metadata": {},
   "outputs": [
    {
     "name": "stdout",
     "output_type": "stream",
     "text": [
      "Enter a positive integer: 1\n",
      "The sum of natural numbers up to 1 is 1\n"
     ]
    }
   ],
   "source": [
    "# 6. Write a Python Program to Find the Sum of Natural Numbers?\n",
    "\n",
    "\n",
    "n = int(input(\"Enter a positive integer: \"))\n",
    "\n",
    "sum_of_numbers = 0\n",
    "if n < 0 :\n",
    "    print(\"please inter postive number\")\n",
    "else:\n",
    "# Loop through numbers from 1 to n and add them to the sum\n",
    "    for i in range(1, n + 1):\n",
    "     sum_of_numbers += i\n",
    "\n",
    "# Print the sum\n",
    "    print(\"The sum of natural numbers up to\", n, \"is\", sum_of_numbers)\n"
   ]
  },
  {
   "cell_type": "markdown",
   "id": "da99f37f",
   "metadata": {},
   "source": []
  }
 ],
 "metadata": {
  "kernelspec": {
   "display_name": "Python 3 (ipykernel)",
   "language": "python",
   "name": "python3"
  },
  "language_info": {
   "codemirror_mode": {
    "name": "ipython",
    "version": 3
   },
   "file_extension": ".py",
   "mimetype": "text/x-python",
   "name": "python",
   "nbconvert_exporter": "python",
   "pygments_lexer": "ipython3",
   "version": "3.9.13"
  }
 },
 "nbformat": 4,
 "nbformat_minor": 5
}
